{
 "cells": [
  {
   "attachments": {},
   "cell_type": "markdown",
   "id": "96d09984",
   "metadata": {},
   "source": [
    "![cassandra logo](https://upload.wikimedia.org/wikipedia/commons/thumb/5/5e/Cassandra_logo.svg/440px-Cassandra_logo.svg.png)\n"
   ]
  },
  {
   "cell_type": "markdown",
   "id": "31b52aaa",
   "metadata": {},
   "source": [
    "![cassandra logo](https://upload.wikimedia.org/wikipedia/commons/thumb/5/5e/Cassandra_logo.svg/440px-Cassandra_logo.svg.png)"
   ]
  },
  {
   "cell_type": "code",
   "execution_count": null,
   "id": "4b2b414f",
   "metadata": {},
   "outputs": [],
   "source": []
  }
 ],
 "metadata": {
  "kernelspec": {
   "display_name": "Python 3 (ipykernel)",
   "language": "python",
   "name": "python3"
  },
  "language_info": {
   "codemirror_mode": {
    "name": "ipython",
    "version": 3
   },
   "file_extension": ".py",
   "mimetype": "text/x-python",
   "name": "python",
   "nbconvert_exporter": "python",
   "pygments_lexer": "ipython3",
   "version": "3.9.12"
  }
 },
 "nbformat": 4,
 "nbformat_minor": 5
}
