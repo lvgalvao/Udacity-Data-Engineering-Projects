{
 "cells": [
  {
   "cell_type": "markdown",
   "metadata": {},
   "source": [
    "## Lesson 2 Demo 1: Creating Normalized Tables\n",
    "<p align=\"center\">\n",
    "<img src=\"../Docs/postgresql_logo.png\" alt=\"PostgreSQL logo\" style=\"height: 250px;\"/>\n",
    "</p>\n",
    "\n",
    "In this demo we are going to walk to through the basics of modeling data in normalized form. We will create tables in PostgreSQL, insert rows of data, and do a simple JOIN SQL query to show how these tables can work together.\n",
    "\n",
    "**Import the library**"
   ]
  },
  {
   "cell_type": "code",
   "execution_count": 41,
   "metadata": {},
   "outputs": [],
   "source": [
    "import psycopg2"
   ]
  },
  {
   "cell_type": "markdown",
   "metadata": {},
   "source": [
    "Create a connection to the database, get a cursor, and set autocoomit to true"
   ]
  },
  {
   "cell_type": "code",
   "execution_count": 42,
   "metadata": {},
   "outputs": [],
   "source": [
    "try:\n",
    "    conn = psycopg2.connect(\"dbname=udacity\")\n",
    "except psycopg2.Error as e:\n",
    "    print(\"Error: Could not make connection to the Postgres database\")\n",
    "    print(e)\n",
    "\n",
    "try:\n",
    "    cur = conn.cursor()\n",
    "except psycopg2.Error as e:\n",
    "    print(\"Error: Could not get curser to the Database\")\n",
    "    print(e)\n",
    "\n",
    "conn.set_session(autocommit=True)"
   ]
  },
  {
   "cell_type": "markdown",
   "metadata": {},
   "source": [
    "**Let's imagine we have a table called Music Library.**\n",
    "\n",
    "> Table name: music_library <li>\n",
    "> column 0: Album ID <li>\n",
    "> column 1: Album Name <li>\n",
    "> column 2: artist Name <li>\n",
    "> column 3: Year <li>\n",
    "> column 4: List of songs\n",
    "\n",
    "<p align=\"center\">\n",
    "<img src=\"../Docs/L2_D1_table_1.png\" alt=\"PostgreSQL logo\" style=\"width: 600px;\"/>\n",
    "</p>\n",
    "\n",
    "Now to transte this information into a Create Table Statement and insert the data"
   ]
  },
  {
   "cell_type": "code",
   "execution_count": 43,
   "metadata": {},
   "outputs": [],
   "source": [
    "try:\n",
    "    cur.execute(\"CREATE TABLE IF NOT EXISTS music_library   (album_id int, \\\n",
    "                                                            album_name varchar, artist_name varchar, \\\n",
    "                                                            year int, songs text[]);\")\n",
    "\n",
    "except psycopg2.Error as e:\n",
    "    print(\"Error: Issue creating table\")\n",
    "    print(e)\n",
    "\n",
    "try:\n",
    "    cur.execute(\"INSERT INTO music_library (album_id, album_name, artist_name, year, songs) \\\n",
    "                VALUES (%s, %s, %s, %s, %s)\", \\\n",
    "                (1, \"Rubber Soul\", \"The Beatles\", 1965, [\"Michelle\", \"Think For Yourself\", \"In My Life\"]))\n",
    "\n",
    "except psycopg2.Error as e:\n",
    "    print(\"Error: Issue inserting rows\")\n",
    "    print(e)\n",
    "\n",
    "try:\n",
    "    cur.execute(\"INSERT INTO music_library (album_id, album_name, artist_name, year, songs) \\\n",
    "                VALUES (%s, %s, %s, %s, %s)\", \\\n",
    "                (2, \"Let it Be\", \"The Beatles\", 1970, [\"Let it Be\", \"Across The Universe\"]))\n",
    "\n",
    "except psycopg2.Error as e:\n",
    "    print(\"Error: Issue inserting rows\")\n",
    "    print(e)"
   ]
  },
  {
   "cell_type": "markdown",
   "metadata": {},
   "source": [
    "Quering the table music_library"
   ]
  },
  {
   "cell_type": "code",
   "execution_count": 44,
   "metadata": {},
   "outputs": [
    {
     "name": "stdout",
     "output_type": "stream",
     "text": [
      "(1, 'Rubber Soul', 'The Beatles', 1965, ['Michelle', 'Think For Yourself', 'In My Life'])\n",
      "(2, 'Let it Be', 'The Beatles', 1970, ['Let it Be', 'Across The Universe'])\n"
     ]
    }
   ],
   "source": [
    "try:\n",
    "    cur.execute(\"SELECT * FROM music_library\")\n",
    "\n",
    "except psycopg2.Error as e:\n",
    "    print(\"Error: Getting data\")\n",
    "    print(e)\n",
    "\n",
    "row = cur.fetchone()\n",
    "while row:\n",
    "    print(row)\n",
    "    row = cur.fetchone()"
   ]
  },
  {
   "cell_type": "markdown",
   "metadata": {},
   "source": [
    "**Moving to 1st Normal Form (1NF)**\n",
    "\n",
    "This data has not been normalized. To get this data into 1st normal form, we will need to remove any collections or list of data. We need to breack up the list of songs into individuals rows.\n",
    "\n",
    "> Table name: music_library_1NF <li>\n",
    "> column 0: Album ID <li>\n",
    "> column 1: Album Name <li>\n",
    "> column 2: artist Name <li>\n",
    "> column 3: Year <li>\n",
    "> column 4: List of songs\n",
    "\n",
    "<p align=\"center\">\n",
    "<img src=\"../Docs/L2_D1_table_2.png\" alt=\"PostgreSQL logo\" style=\"width: 600px;\"/>\n",
    "</p>\n",
    "\n",
    "Now to transte this information into a Create Table Statement and insert the data"
   ]
  },
  {
   "cell_type": "code",
   "execution_count": 45,
   "metadata": {},
   "outputs": [],
   "source": [
    "try:\n",
    "    cur.execute(\"CREATE TABLE IF NOT EXISTS music_library_1NF   (album_id int, \\\n",
    "                                                            album_name varchar, artist_name varchar, \\\n",
    "                                                            year int, song_name text);\")\n",
    "\n",
    "except psycopg2.Error as e:\n",
    "    print(\"Error: Issue creating table\")\n",
    "    print(e)\n",
    "\n",
    "#list of rows to be inserted\n",
    "values =       [(1, \"Rubber Soul\", \"The Beatles\", 1965, \"Michelle\"),\n",
    "                (1, \"Rubber Soul\", \"The Beatles\", 1965, \"Think For Yourself\"),\n",
    "                (1, \"Rubber Soul\", \"The Beatles\", 1965, \"In My Life\"),\n",
    "                (2, \"Let it Be\", \"The Beatles\", 1970, \"Let it Be\"),\n",
    "                (2, \"Let it Be\", \"The Beatles\", 1970, \"Across The Universe\")]\n",
    "\n",
    "#insert statement to insert rows into table music_library_1NF\n",
    "sql = \"INSERT INTO music_library_1NF (album_id, album_name, artist_name, year, song_name) VALUES (%s, %s, %s, %s, %s)\"\n",
    "\n",
    "try:\n",
    "    cur.executemany(sql, values)\n",
    "\n",
    "except psycopg2.Error as e:\n",
    "    print(\"Error: Issue inserting rows\")\n",
    "    print(e)"
   ]
  },
  {
   "cell_type": "markdown",
   "metadata": {},
   "source": [
    "Quering the table music_library_1NF"
   ]
  },
  {
   "cell_type": "code",
   "execution_count": 46,
   "metadata": {},
   "outputs": [
    {
     "name": "stdout",
     "output_type": "stream",
     "text": [
      "(1, 'Rubber Soul', 'The Beatles', 1965, 'Michelle')\n",
      "(1, 'Rubber Soul', 'The Beatles', 1965, 'Think For Yourself')\n",
      "(1, 'Rubber Soul', 'The Beatles', 1965, 'In My Life')\n",
      "(2, 'Let it Be', 'The Beatles', 1970, 'Let it Be')\n",
      "(2, 'Let it Be', 'The Beatles', 1970, 'Across The Universe')\n"
     ]
    }
   ],
   "source": [
    "try:\n",
    "    cur.execute(\"SELECT * FROM music_library_1NF\")\n",
    "\n",
    "except psycopg2.Error as e:\n",
    "    print(\"Error: Getting data\")\n",
    "    print(e)\n",
    "\n",
    "row = cur.fetchone()\n",
    "while row:\n",
    "    print(row)\n",
    "    row = cur.fetchone()"
   ]
  },
  {
   "cell_type": "markdown",
   "metadata": {},
   "source": [
    "**Moving to 2st Normal Form (1NF)**\n",
    "\n",
    "We have moved our data to be in 1NF which is the first step in moving to 2nd Normal Form. Our table is not yer in 2nd Normal Form. While each of our records in our table is unique, our Primary Key (album id) is not unique. We need to breack this up into two tables, album library and song library. \n",
    "\n",
    "> Table name: album_library_2NF <li>\n",
    "> column 0: Album ID <li>\n",
    "> column 1: Album Name <li>\n",
    "> column 2: Artist Name <li>\n",
    "> column 3: Year <li>\n",
    "\n",
    "> Table name: song_library_2NF <li>\n",
    "> column 0: Song Id <li>\n",
    "> column 1: Song Name <li>\n",
    "> column 2: Album Id <li>\n",
    "\n",
    "<p align=\"center\">\n",
    "<img src=\"../Docs/L2_D1_table_3.png\" alt=\"PostgreSQL logo\" style=\"width: 600px;\"/>\n",
    "</p>\n",
    "\n",
    "Now to transte this information into a Create Table Statement and insert the data"
   ]
  },
  {
   "cell_type": "code",
   "execution_count": 47,
   "metadata": {},
   "outputs": [],
   "source": [
    "try:\n",
    "    cur.execute(\"CREATE TABLE IF NOT EXISTS album_library_2NF   (album_id int, \\\n",
    "                                                            album_name varchar, artist_name varchar, year int);\")\n",
    "\n",
    "except psycopg2.Error as e:\n",
    "    print(\"Error: Issue creating table\")\n",
    "    print(e)\n",
    "\n",
    "try:\n",
    "    cur.execute(\"CREATE TABLE IF NOT EXISTS song_library_2NF   (song_id int, \\\n",
    "                                                            song_name varchar, album_id int);\")\n",
    "\n",
    "except psycopg2.Error as e:\n",
    "    print(\"Error: Issue creating table\")\n",
    "    print(e)"
   ]
  },
  {
   "cell_type": "code",
   "execution_count": 48,
   "metadata": {},
   "outputs": [],
   "source": [
    "#list of rows to be inserted\n",
    "values =       [(1, \"Rubber Soul\", \"The Beatles\", 1965),\n",
    "                (2, \"Let it Be\", \"The Beatles\", 1970)]\n",
    "\n",
    "#insert statement to insert rows into table music_library_1NF\n",
    "sql = \"INSERT INTO album_library_2NF (album_id, album_name, artist_name, year) VALUES (%s, %s, %s, %s)\"\n",
    "\n",
    "try:\n",
    "    cur.executemany(sql, values)\n",
    "\n",
    "except psycopg2.Error as e:\n",
    "    print(\"Error: Issue inserting rows\")\n",
    "    print(e)"
   ]
  },
  {
   "cell_type": "code",
   "execution_count": 49,
   "metadata": {},
   "outputs": [],
   "source": [
    "#list of rows to be inserted\n",
    "values =       [(1,1, \"Michelle\"),\n",
    "                (2,1, \"Think For Yourself\"),\n",
    "                (3,1, \"In My Life\"),\n",
    "                (4,2, \"Let it Be\"),\n",
    "                (5,2, \"Across The Universe\")]\n",
    "\n",
    "#insert statement to insert rows into table music_library_1NF\n",
    "sql = \"INSERT INTO song_library_2NF (song_id, album_id, song_name) VALUES (%s, %s, %s)\"\n",
    "\n",
    "try:\n",
    "    cur.executemany(sql, values)\n",
    "\n",
    "except psycopg2.Error as e:\n",
    "    print(\"Error: Issue inserting rows\")\n",
    "    print(e)"
   ]
  },
  {
   "cell_type": "code",
   "execution_count": 50,
   "metadata": {},
   "outputs": [
    {
     "name": "stdout",
     "output_type": "stream",
     "text": [
      "\n",
      "album_library_2NF\n",
      "\n",
      "(1, 'Rubber Soul', 'The Beatles', 1965)\n",
      "(2, 'Let it Be', 'The Beatles', 1970)\n",
      "\n",
      "song_library_2NF\n",
      "\n",
      "(1, 'Michelle', 1)\n",
      "(2, 'Think For Yourself', 1)\n",
      "(3, 'In My Life', 1)\n",
      "(4, 'Let it Be', 2)\n",
      "(5, 'Across The Universe', 2)\n"
     ]
    }
   ],
   "source": [
    "print(\"\\nalbum_library_2NF\\n\")\n",
    "try:\n",
    "    cur.execute(\"SELECT * from album_library_2NF;\")\n",
    "except psycopg2.Error as e:\n",
    "    print(\"Error: Issue getting rows\")\n",
    "    print(e)\n",
    "\n",
    "row = cur.fetchone()\n",
    "while row:\n",
    "    print(row)\n",
    "    row = cur.fetchone()\n",
    "\n",
    "print(\"\\nsong_library_2NF\\n\")\n",
    "try:\n",
    "    cur.execute(\"SELECT * from song_library_2NF;\")\n",
    "except psycopg2.Error as e:\n",
    "    print(\"Error: Issue getting rows\")\n",
    "    print(e)\n",
    "\n",
    "row = cur.fetchone()\n",
    "while row:\n",
    "    print(row)\n",
    "    row = cur.fetchone()"
   ]
  },
  {
   "cell_type": "markdown",
   "metadata": {},
   "source": [
    "Let's do a `JOIN` on this table so we can get all the information we had in our first Table"
   ]
  },
  {
   "cell_type": "code",
   "execution_count": 51,
   "metadata": {},
   "outputs": [
    {
     "name": "stdout",
     "output_type": "stream",
     "text": [
      "\n",
      "Join to get the first table\n",
      "\n",
      "(1, 'Rubber Soul', 'The Beatles', 1965, 1, 'Michelle', 1)\n",
      "(1, 'Rubber Soul', 'The Beatles', 1965, 2, 'Think For Yourself', 1)\n",
      "(1, 'Rubber Soul', 'The Beatles', 1965, 3, 'In My Life', 1)\n",
      "(2, 'Let it Be', 'The Beatles', 1970, 4, 'Let it Be', 2)\n",
      "(2, 'Let it Be', 'The Beatles', 1970, 5, 'Across The Universe', 2)\n"
     ]
    }
   ],
   "source": [
    "print(\"\\nJoin to get the first table\\n\")\n",
    "try:\n",
    "    cur.execute(\"SELECT * FROM album_library_2NF JOIN song_library_2NF ON album_library_2NF.album_id = song_library_2NF.album_id ;\")\n",
    "except psycopg2.Error as e:\n",
    "    print(\"Error: getting data\")\n",
    "    print(e)\n",
    "\n",
    "row = cur.fetchone()\n",
    "while row:\n",
    "    print(row)\n",
    "    row = cur.fetchone()"
   ]
  },
  {
   "cell_type": "markdown",
   "metadata": {},
   "source": [
    "*Moving to 3rd Normal Form (3NF)*\n",
    "Check our table for any transitive dependencies. Album_library can move Artist_name to its own table, called Artist, which will leave us with 3 tables\n",
    "\n",
    "> Table name: album_library_3NF <li>\n",
    "> column 0: Album Id <li>\n",
    "> column 1: Album Name <li>\n",
    "> column 2: Artist Id <li>\n",
    "> column 3: Year\n",
    "\n",
    "> Table name: song_library_3NF <li>\n",
    "> column 0: Song Id <li>\n",
    "> column 1: Song Name <li>\n",
    "> column 2: Album Id\n",
    "\n",
    "> Table name: artist_library_3NF <li>\n",
    "> column 0: Artist Id <li>\n",
    "> column 1: Artist Name\n",
    "\n",
    "<p align=\"center\">\n",
    "<img src=\"../Docs/L2_D1_table_4.png\" alt=\"PostgreSQL logo\" style=\"width: 600px;\"/>\n",
    "</p>\n",
    "\n",
    "Now to transte this information into a Create Table Statement and insert the data"
   ]
  },
  {
   "cell_type": "code",
   "execution_count": 52,
   "metadata": {},
   "outputs": [],
   "source": [
    "try:\n",
    "    cur.execute(\"CREATE TABLE IF NOT EXISTS album_library_3NF   (album_id int, \\\n",
    "                                                            album_name varchar, artist_id int, year int);\")\n",
    "\n",
    "except psycopg2.Error as e:\n",
    "    print(\"Error: Issue creating table\")\n",
    "    print(e)\n",
    "\n",
    "try:\n",
    "    cur.execute(\"CREATE TABLE IF NOT EXISTS song_library_3NF   (song_id int, \\\n",
    "                                                            song_name varchar, album_id int);\")\n",
    "\n",
    "except psycopg2.Error as e:\n",
    "    print(\"Error: Issue creating table\")\n",
    "    print(e)\n",
    "\n",
    "try:\n",
    "    cur.execute(\"CREATE TABLE IF NOT EXISTS artist_library_3NF   (artist_id int, \\\n",
    "                                                            artist_name varchar);\")\n",
    "\n",
    "except psycopg2.Error as e:\n",
    "    print(\"Error: Issue creating table\")\n",
    "    print(e)"
   ]
  },
  {
   "cell_type": "code",
   "execution_count": 53,
   "metadata": {},
   "outputs": [],
   "source": [
    "#insert statement to insert rows into table song_library_3NF\n",
    "sql = \"INSERT INTO song_library_3NF (song_id, album_id, song_name) VALUES (%s, %s, %s)\"\n",
    "\n",
    "#list of rows to be inserted\n",
    "values =       [(1,1, \"Michelle\"),\n",
    "                (2,1, \"Think For Yourself\"),\n",
    "                (3,1, \"In My Life\"),\n",
    "                (4,2, \"Let it Be\"),\n",
    "                (5,2, \"Across The Universe\")]\n",
    "\n",
    "try:\n",
    "    cur.executemany(sql, values)\n",
    "\n",
    "except psycopg2.Error as e:\n",
    "    print(\"Error: Issue inserting rows\")\n",
    "    print(e)\n",
    "\n",
    "#insert statement to insert rows into table album_library_3NF\n",
    "sql = \"INSERT INTO album_library_3NF (album_id, album_name, artist_id, year) VALUES (%s, %s, %s, %s)\"\n",
    "\n",
    "#list of rows to be inserted\n",
    "values =       [(1, \"Rubber Soul\", 1, 1965),\n",
    "                (2, \"Let it Be\", 1, 1970)]\n",
    "\n",
    "try:\n",
    "    cur.executemany(sql, values)\n",
    "\n",
    "except psycopg2.Error as e:\n",
    "    print(\"Error: Issue inserting rows\")\n",
    "    print(e)\n",
    "\n",
    "#insert statement to insert rows into table artist_library_3NF\n",
    "sql = \"INSERT INTO artist_library_3NF (artist_id, artist_name) VALUES (%s, %s)\"\n",
    "\n",
    "#list of rows to be inserted\n",
    "values = [(1, \"The Beatles\")]\n",
    "\n",
    "try:\n",
    "    cur.executemany(sql, values)\n",
    "\n",
    "except psycopg2.Error as e:\n",
    "    print(\"Error: Issue inserting rows\")\n",
    "    print(e)"
   ]
  },
  {
   "cell_type": "code",
   "execution_count": 54,
   "metadata": {},
   "outputs": [
    {
     "name": "stdout",
     "output_type": "stream",
     "text": [
      "\n",
      "song_library_3NF\n",
      "\n",
      "(1, 'Michelle', 1)\n",
      "(2, 'Think For Yourself', 1)\n",
      "(3, 'In My Life', 1)\n",
      "(4, 'Let it Be', 2)\n",
      "(5, 'Across The Universe', 2)\n",
      "\n",
      "album_library_3NF\n",
      "\n",
      "(1, 'Rubber Soul', 1, 1965)\n",
      "(2, 'Let it Be', 1, 1970)\n",
      "\n",
      "artist_library_3NF\n",
      "\n",
      "(1, 'The Beatles')\n"
     ]
    }
   ],
   "source": [
    "#select statement\n",
    "\n",
    "print(\"\\nsong_library_3NF\\n\")\n",
    "try:\n",
    "    cur.execute(\"SELECT * from song_library_3NF;\")\n",
    "except psycopg2.Error as e:\n",
    "    print(\"Error: Issue getting rows\")\n",
    "    print(e)\n",
    "\n",
    "row = cur.fetchone()\n",
    "while row:\n",
    "    print(row)\n",
    "    row = cur.fetchone()\n",
    "\n",
    "print(\"\\nalbum_library_3NF\\n\")\n",
    "try:\n",
    "    cur.execute(\"SELECT * from album_library_3NF;\")\n",
    "except psycopg2.Error as e:\n",
    "    print(\"Error: Issue getting rows\")\n",
    "    print(e)\n",
    "\n",
    "row = cur.fetchone()\n",
    "while row:\n",
    "    print(row)\n",
    "    row = cur.fetchone()\n",
    "\n",
    "print(\"\\nartist_library_3NF\\n\")\n",
    "try:\n",
    "    cur.execute(\"SELECT * from artist_library_3NF;\")\n",
    "except psycopg2.Error as e:\n",
    "    print(\"Error: Issue getting rows\")\n",
    "    print(e)\n",
    "\n",
    "row = cur.fetchone()\n",
    "while row:\n",
    "    print(row)\n",
    "    row = cur.fetchone()\n",
    "\n"
   ]
  },
  {
   "cell_type": "markdown",
   "metadata": {},
   "source": [
    "Let's do two `JOIN` on these 3 tables so we can get all the information we had in our first Table"
   ]
  },
  {
   "cell_type": "code",
   "execution_count": 55,
   "metadata": {},
   "outputs": [
    {
     "name": "stdout",
     "output_type": "stream",
     "text": [
      "\n",
      "Join to get the first table\n",
      "\n",
      "(1, 'Rubber Soul', 'The Beatles', 1965, 'Michelle')\n",
      "(1, 'Rubber Soul', 'The Beatles', 1965, 'Think For Yourself')\n",
      "(1, 'Rubber Soul', 'The Beatles', 1965, 'In My Life')\n",
      "(2, 'Let it Be', 'The Beatles', 1970, 'Let it Be')\n",
      "(2, 'Let it Be', 'The Beatles', 1970, 'Across The Universe')\n"
     ]
    }
   ],
   "source": [
    "print(\"\\nJoin to get the first table\\n\")\n",
    "try:\n",
    "    cur.execute(\"SELECT album_library_3NF.album_id, album_library_3NF.album_name, artist_library_3NF.artist_name, \\\n",
    "                album_library_3NF.year, song_library_3NF.song_name \\\n",
    "                FROM (artist_library_3NF JOIN album_library_3NF ON \\\n",
    "                artist_library_3NF.artist_id = album_library_3NF.artist_id) JOIN \\\n",
    "                song_library_3NF ON album_library_3NF.album_id = song_library_3NF.album_id;\")\n",
    "except psycopg2.Error as e:\n",
    "    print(\"Error: getting data\")\n",
    "    print(e)\n",
    "\n",
    "row = cur.fetchone()\n",
    "while row:\n",
    "    print(row)\n",
    "    row = cur.fetchone()"
   ]
  },
  {
   "cell_type": "markdown",
   "metadata": {},
   "source": [
    "## DONE! We have Normnalized our dataset!\n",
    "\n",
    "### For the sake of the demo, I'll drop the tables"
   ]
  },
  {
   "cell_type": "code",
   "execution_count": 56,
   "metadata": {},
   "outputs": [],
   "source": [
    "try:\n",
    "    cur.execute(\"DROP TABLE music_library; DROP TABLE music_library_1NF; DROP TABLE album_library_2NF; DROP TABLE song_library_2NF; \\\n",
    "                DROP TABLE album_library_3NF; DROP TABLE song_library_3NF; DROP TABLE artist_library_3NF;\")\n",
    "except psycopg2.Error as e:\n",
    "    print(\"Error: Dropping table\")\n",
    "    print(e)"
   ]
  },
  {
   "cell_type": "markdown",
   "metadata": {},
   "source": [
    "### And finally close your cursor and connection."
   ]
  },
  {
   "cell_type": "code",
   "execution_count": 57,
   "metadata": {},
   "outputs": [],
   "source": [
    "cur.close()\n",
    "conn.close()"
   ]
  }
 ],
 "metadata": {
  "kernelspec": {
   "display_name": "Python 3.7.13 ('.venv': pipenv)",
   "language": "python",
   "name": "python3"
  },
  "language_info": {
   "codemirror_mode": {
    "name": "ipython",
    "version": 3
   },
   "file_extension": ".py",
   "mimetype": "text/x-python",
   "name": "python",
   "nbconvert_exporter": "python",
   "pygments_lexer": "ipython3",
   "version": "3.7.13"
  },
  "orig_nbformat": 4,
  "vscode": {
   "interpreter": {
    "hash": "f82ff4251ad3e3cf198c3361155c67bbd0d99895385c197706ac8ae9ee7e017d"
   }
  }
 },
 "nbformat": 4,
 "nbformat_minor": 2
}
