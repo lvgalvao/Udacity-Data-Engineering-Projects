{
 "cells": [
  {
   "cell_type": "markdown",
   "metadata": {},
   "source": [
    "## Lesson 2 Exercise 3: Creating fact and dimension tables\n",
    "\n",
    "<p align=\"center\">\n",
    "<img src=\"../Docs/postgresql_logo.png\" alt=\"PostgreSQL logo\" style=\"height: 250px;\"/>\n",
    "</p>\n",
    "\n",
    "### Walk through the basics of modeling data using Fact and Dimension tables. You will create both Fact and Dimension tables and show how this is a basic element of the Star Schema.\n",
    "\n",
    "_Remember the exercise shown are simple, but imagine these situations at scale with large datasets, many users, and the need for quick response time._\n",
    "\n",
    "**Import the library**"
   ]
  },
  {
   "cell_type": "code",
   "execution_count": 1,
   "metadata": {},
   "outputs": [],
   "source": [
    "import psycopg2\n"
   ]
  },
  {
   "cell_type": "markdown",
   "metadata": {},
   "source": [
    "### Create a connection to the database, get a cursor, and set autocommit to true"
   ]
  },
  {
   "cell_type": "code",
   "execution_count": 2,
   "metadata": {},
   "outputs": [],
   "source": [
    "try: \n",
    "    conn = psycopg2.connect(\"dbname=udacity\")\n",
    "except psycopg2.Error as e: \n",
    "    print(\"Error: Could not make connection to the Postgres database\")\n",
    "    print(e)\n",
    "try: \n",
    "    cur = conn.cursor()\n",
    "except psycopg2.Error as e: \n",
    "    print(\"Error: Could not get curser to the Database\")\n",
    "    print(e)\n",
    "conn.set_session(autocommit=True)"
   ]
  },
  {
   "cell_type": "markdown",
   "metadata": {},
   "source": [
    "### Let's imagine we work at an online Music Store. There will be many tables in our database but let's just focus on 4 tables around customer purchases.\n",
    "\n",
    "Table Name: customer_transactions <br>\n",
    "column 0: Customer Id <br> \n",
    "column 1: Store Id <br>\n",
    "column 2: Spent\n",
    "\n",
    "Table Name: Customer <br>\n",
    "column 0: Customer Id <br>\n",
    "column 1: Name <br>\n",
    "column 2: Rewards\n",
    "\n",
    "Table Name: store <br>\n",
    "column: Store Id <br>\n",
    "column: State\n",
    "\n",
    "Table Name: items_purchased <br>\n",
    "column: customer id <br>\n",
    "column: Item Name\n",
    "\n"
   ]
  },
  {
   "cell_type": "markdown",
   "metadata": {},
   "source": [
    "### We add CREATE statements for all tables and INSERT data into the tables\n"
   ]
  },
  {
   "cell_type": "code",
   "execution_count": 3,
   "metadata": {},
   "outputs": [],
   "source": [
    "try: \n",
    "    cur.execute(\"CREATE TABLE IF NOT EXISTS transactions2 (transaction_id int, \\\n",
    "                                                           customer_name varchar, cashier_id int, \\\n",
    "                                                           year int);\")\n",
    "except psycopg2.Error as e: \n",
    "    print(\"Error: Issue creating table\")\n",
    "    print (e)\n",
    "\n",
    "try: \n",
    "    cur.execute(\"CREATE TABLE IF NOT EXISTS employees (employee_id int, \\\n",
    "                                                       employee_name varchar);\")\n",
    "except psycopg2.Error as e: \n",
    "    print(\"Error: Issue creating table\")\n",
    "    print (e)\n",
    "\n",
    "try: \n",
    "    cur.execute(\"CREATE TABLE IF NOT EXISTS albums_sold (album_id int, transaction_id int, \\\n",
    "                                                          album_name varchar);\")\n",
    "except psycopg2.Error as e: \n",
    "    print(\"Error: Issue creating table\")\n",
    "    print (e)\n",
    "\n",
    "try: \n",
    "    cur.execute(\"CREATE TABLE IF NOT EXISTS sales (transaction_id int, amount_spent int);\")\n",
    "except psycopg2.Error as e: \n",
    "    print(\"Error: Issue creating table\")\n",
    "    print (e)\n",
    "\n",
    "    \n",
    "try: \n",
    "    cur.execute(\"INSERT INTO transactions2 (transaction_id, customer_name, cashier_id, year) \\\n",
    "                 VALUES (%s, %s, %s, %s)\", \\\n",
    "                 (1, \"Amanda\", 1, 2000))\n",
    "except psycopg2.Error as e: \n",
    "    print(\"Error: Inserting Rows\")\n",
    "    print (e)\n",
    "\n",
    "try: \n",
    "    cur.execute(\"INSERT INTO transactions2 (transaction_id, customer_name, cashier_id, year) \\\n",
    "                 VALUES (%s, %s, %s, %s)\", \\\n",
    "                 (2, \"Toby\", 1, 2000))\n",
    "except psycopg2.Error as e: \n",
    "    print(\"Error: Inserting Rows\")\n",
    "    print (e)\n",
    "    \n",
    "try: \n",
    "    cur.execute(\"INSERT INTO transactions2 (transaction_id, customer_name, cashier_id, year) \\\n",
    "                 VALUES (%s, %s, %s, %s)\", \\\n",
    "                 (3, \"Max\", 2, 2018))\n",
    "except psycopg2.Error as e: \n",
    "    print(\"Error: Inserting Rows\")\n",
    "    print (e)\n",
    "    \n",
    "try: \n",
    "    cur.execute(\"INSERT INTO albums_sold (album_id, transaction_id, album_name) \\\n",
    "                 VALUES (%s, %s, %s)\", \\\n",
    "                 (1, 1, \"Rubber Soul\"))\n",
    "except psycopg2.Error as e: \n",
    "    print(\"Error: Inserting Rows\")\n",
    "    print (e)\n",
    "\n",
    "try: \n",
    "    cur.execute(\"INSERT INTO albums_sold (album_id, transaction_id, album_name) \\\n",
    "                 VALUES (%s, %s, %s)\", \\\n",
    "                 (2, 1, \"Let It Be\"))\n",
    "except psycopg2.Error as e: \n",
    "    print(\"Error: Inserting Rows\")\n",
    "    print (e)\n",
    "    \n",
    "try: \n",
    "    cur.execute(\"INSERT INTO albums_sold (album_id, transaction_id, album_name) \\\n",
    "                 VALUES (%s, %s, %s)\", \\\n",
    "                 (3, 2, \"My Generation\"))\n",
    "except psycopg2.Error as e: \n",
    "    print(\"Error: Inserting Rows\")\n",
    "    print (e)\n",
    "    \n",
    "try: \n",
    "    cur.execute(\"INSERT INTO albums_sold (album_id, transaction_id, album_name) \\\n",
    "                 VALUES (%s, %s, %s)\", \\\n",
    "                 (4, 3, \"Meet the Beatles\"))\n",
    "except psycopg2.Error as e: \n",
    "    print(\"Error: Inserting Rows\")\n",
    "    print (e)\n",
    "\n",
    "try: \n",
    "    cur.execute(\"INSERT INTO albums_sold (album_id, transaction_id, album_name) \\\n",
    "                 VALUES (%s, %s, %s)\", \\\n",
    "                 (5, 3, \"Help!\"))\n",
    "except psycopg2.Error as e: \n",
    "    print(\"Error: Inserting Rows\")\n",
    "    print (e)\n",
    "\n",
    "try: \n",
    "    cur.execute(\"INSERT INTO employees (employee_id, employee_name) \\\n",
    "                 VALUES (%s, %s)\", \\\n",
    "                 (1, \"Sam\"))\n",
    "except psycopg2.Error as e: \n",
    "    print(\"Error: Inserting Rows\")\n",
    "    print (e)\n",
    "\n",
    "try: \n",
    "    cur.execute(\"INSERT INTO employees (employee_id, employee_name) \\\n",
    "                 VALUES (%s, %s)\", \\\n",
    "                 (2, \"Bob\"))\n",
    "except psycopg2.Error as e: \n",
    "    print(\"Error: Inserting Rows\")\n",
    "    print (e)    \n",
    "    \n",
    "try: \n",
    "    cur.execute(\"INSERT INTO sales (transaction_id, amount_spent) \\\n",
    "                 VALUES (%s, %s)\", \\\n",
    "                 (1, 40))\n",
    "except psycopg2.Error as e: \n",
    "    print(\"Error: Inserting Rows\")\n",
    "    print (e)    \n",
    "    \n",
    "try: \n",
    "    cur.execute(\"INSERT INTO sales (transaction_id, amount_spent) \\\n",
    "                 VALUES (%s, %s)\", \\\n",
    "                 (2, 19))\n",
    "except psycopg2.Error as e: \n",
    "    print(\"Error: Inserting Rows\")\n",
    "    print (e) \n",
    "\n",
    "try: \n",
    "    cur.execute(\"INSERT INTO sales (transaction_id, amount_spent) \\\n",
    "                 VALUES (%s, %s)\", \\\n",
    "                 (3, 45))\n",
    "except psycopg2.Error as e: \n",
    "    print(\"Error: Inserting Rows\")\n",
    "    print (e) \n"
   ]
  },
  {
   "cell_type": "markdown",
   "metadata": {},
   "source": [
    "### Confirm the tables were created with the data"
   ]
  },
  {
   "cell_type": "code",
   "execution_count": 4,
   "metadata": {},
   "outputs": [
    {
     "name": "stdout",
     "output_type": "stream",
     "text": [
      "Table: transactions2\n",
      "\n",
      "(1, 'Amanda', 1, 2000)\n",
      "(2, 'Toby', 1, 2000)\n",
      "(3, 'Max', 2, 2018)\n",
      "\n",
      "Table: albums_sold\n",
      "\n",
      "(1, 1, 'Rubber Soul')\n",
      "(2, 1, 'Let It Be')\n",
      "(3, 2, 'My Generation')\n",
      "(4, 3, 'Meet the Beatles')\n",
      "(5, 3, 'Help!')\n",
      "\n",
      "Table: employees\n",
      "\n",
      "(1, 'Sam')\n",
      "(2, 'Bob')\n",
      "\n",
      "Table: Sales\n",
      "\n",
      "(1, 40)\n",
      "(2, 19)\n",
      "(3, 45)\n"
     ]
    }
   ],
   "source": [
    "print(\"Table: transactions2\\n\")\n",
    "try: \n",
    "    cur.execute(\"SELECT * FROM transactions2;\")\n",
    "except psycopg2.Error as e: \n",
    "    print(\"Error: select *\")\n",
    "    print (e)\n",
    "\n",
    "row = cur.fetchone()\n",
    "while row:\n",
    "   print(row)\n",
    "   row = cur.fetchone()\n",
    "\n",
    "print(\"\\nTable: albums_sold\\n\")\n",
    "try: \n",
    "    cur.execute(\"SELECT * FROM albums_sold;\")\n",
    "except psycopg2.Error as e: \n",
    "    print(\"Error: select *\")\n",
    "    print (e)\n",
    "\n",
    "row = cur.fetchone()\n",
    "while row:\n",
    "   print(row)\n",
    "   row = cur.fetchone()\n",
    "\n",
    "print(\"\\nTable: employees\\n\")\n",
    "try: \n",
    "    cur.execute(\"SELECT * FROM employees;\")\n",
    "except psycopg2.Error as e: \n",
    "    print(\"Error: select *\")\n",
    "    print (e)\n",
    "\n",
    "row = cur.fetchone()\n",
    "while row:\n",
    "   print(row)\n",
    "   row = cur.fetchone()\n",
    "    \n",
    "print(\"\\nTable: Sales\\n\")\n",
    "try: \n",
    "    cur.execute(\"SELECT * FROM sales;\")\n",
    "except psycopg2.Error as e: \n",
    "    print(\"Error: select *\")\n",
    "    print (e)\n",
    "\n",
    "row = cur.fetchone()\n",
    "while row:\n",
    "   print(row)\n",
    "   row = cur.fetchone()\n"
   ]
  },
  {
   "cell_type": "markdown",
   "metadata": {},
   "source": [
    "### Let's say we need to do a query that gives us:\n",
    "`transaction_id customer_name cashier name year albums sold amount sold`\n",
    "\n",
    "we will need to perform a 3 way JOIN on the 4 tables we have created"
   ]
  },
  {
   "cell_type": "code",
   "execution_count": 19,
   "metadata": {},
   "outputs": [
    {
     "name": "stdout",
     "output_type": "stream",
     "text": [
      "(1, 'Amanda', 'Sam', 2000, 'Rubber Soul', 40)\n",
      "(1, 'Amanda', 'Sam', 2000, 'Let It Be', 40)\n",
      "(2, 'Toby', 'Sam', 2000, 'My Generation', 19)\n",
      "(3, 'Max', 'Bob', 2018, 'Meet the Beatles', 45)\n",
      "(3, 'Max', 'Bob', 2018, 'Help!', 45)\n"
     ]
    }
   ],
   "source": [
    "try: \n",
    "    cur.execute(\"SELECT transactions2.transaction_id, customer_name, employees.employee_name, \\\n",
    "                        year, albums_sold.album_name, sales.amount_spent\\\n",
    "                  FROM ((transactions2 JOIN employees ON \\\n",
    "                         transactions2.cashier_id = employees.employee_id) JOIN \\\n",
    "                         albums_sold ON albums_sold.transaction_id=transactions2.transaction_id) JOIN\\\n",
    "                         sales ON transactions2.transaction_id=sales.transaction_id;\")\n",
    "    \n",
    "    \n",
    "except psycopg2.Error as e: \n",
    "    print(\"Error: select *\")\n",
    "    print (e)\n",
    "\n",
    "row = cur.fetchone()\n",
    "while row:\n",
    "   print(row)\n",
    "   row = cur.fetchone()"
   ]
  },
  {
   "cell_type": "markdown",
   "metadata": {},
   "source": [
    "**Great we were able to get the data we wanted.**\n",
    "\n",
    "### But, we had a to 3 way `JOIN` to get there. While it's great we had that flexibility, we need to remember that joins are slow and if we have a read heavy workload that required low latency queries we want to reduce the number of JOINS. Let's think about denormalizing our normalized tables.\n",
    "\n",
    "**With denormalization we want to think about the queries we are running and how we can reduce our number of JOINS even if that means duplicating data** <br>\n",
    "`Query 1 : select transaction_id, customer_name, amount_sent FROM ` <br>\n",
    "This should give the amount spent on each transaction\n",
    "\n",
    "`Query 2: select cashier_name, SUM(amount_spent) FROM  GROUP BY cashier_name` <br>\n",
    "This should give the total sales by cashier"
   ]
  },
  {
   "cell_type": "markdown",
   "metadata": {},
   "source": [
    "### Query 1: select transaction_id, customer_name, amount_spent FROM `<min tables possible>`\n",
    "\n",
    "There are two ways to do this, you can do a JOIN on the sales and transactions2 table but we want to minimize the use of JOINS. <br>\n",
    "\n",
    "Let's add amount_spent to the transactions table so that we will not need to do a JOIN at all. <br>"
   ]
  },
  {
   "cell_type": "code",
   "execution_count": 16,
   "metadata": {},
   "outputs": [],
   "source": [
    "try: \n",
    "    cur.execute(\"CREATE TABLE IF NOT EXISTS transactions (transaction_id int, \\\n",
    "                                                           customer_name varchar, cashier_id int, \\\n",
    "                                                            year int, amount_spent int);\")\n",
    "except psycopg2.Error as e: \n",
    "    print(\"Error: Issue creating table\")\n",
    "    print (e)\n",
    "\n",
    "try: \n",
    "    cur.execute(\"INSERT INTO transactions (transaction_id, customer_name, cashier_id, year, amount_spent) \\\n",
    "                SELECT DISTINCT (transactions2.transaction_id), customer_name, \\\n",
    "                        employees.employee_id, year, sales.amount_spent\\\n",
    "                  FROM ((transactions2 JOIN employees ON \\\n",
    "                         transactions2.cashier_id = employees.employee_id) JOIN \\\n",
    "                         albums_sold ON albums_sold.transaction_id=transactions2.transaction_id) JOIN\\\n",
    "                         sales ON transactions2.transaction_id=sales.transaction_id;\")\n",
    "except psycopg2.Error as e: \n",
    "    print(\"Error: Inserting Rows\")\n",
    "    print (e)"
   ]
  },
  {
   "cell_type": "markdown",
   "metadata": {},
   "source": [
    "### Great we can now do a simplifed query to get the information we need. No JOIN is needed.\n"
   ]
  },
  {
   "cell_type": "code",
   "execution_count": 21,
   "metadata": {},
   "outputs": [
    {
     "name": "stdout",
     "output_type": "stream",
     "text": [
      "(1, 'Amanda', 1, 2000, 40)\n",
      "(2, 'Toby', 1, 2000, 19)\n",
      "(3, 'Max', 2, 2018, 45)\n"
     ]
    }
   ],
   "source": [
    "try: \n",
    "    cur.execute(\"SELECT transaction_id, customer_name, cashier_id, year, amount_spent FROM transactions ORDER BY transaction_id ASC;\")\n",
    "        \n",
    "except psycopg2.Error as e: \n",
    "    print(\"Error: select *\")\n",
    "    print (e)\n",
    "\n",
    "row = cur.fetchone()\n",
    "while row:\n",
    "   print(row)\n",
    "   row = cur.fetchone()"
   ]
  },
  {
   "cell_type": "markdown",
   "metadata": {},
   "source": [
    "### Query 2: select cashier_name, SUM(amount_spent) FROM `<min qte table>` GROUP BY cashier_name\n",
    "We could also do a JOIN on the tables we have created, but what if we do not want to have any JOINS, why not create a new table with just the information we need.\n",
    "\n",
    "Table Name: cashier_sales <br>\n",
    "column 0: cashier_name <br>\n",
    "column 1: total_sales\n"
   ]
  },
  {
   "cell_type": "code",
   "execution_count": 26,
   "metadata": {},
   "outputs": [],
   "source": [
    "try: \n",
    "    cur.execute(\"CREATE TABLE IF NOT EXISTS cashier_sales (cashier_name varchar, \\\n",
    "                                                           cashier_id int, amount_spent int);\")\n",
    "except psycopg2.Error as e: \n",
    "    print(\"Error: Issue creating table\")\n",
    "    print (e)\n",
    "\n",
    "try: \n",
    "    cur.execute(\"INSERT INTO cashier_sales (cashier_name, cashier_id, amount_spent) \\\n",
    "                SELECT employees.employee_name, employees.employee_id, sum(sales.amount_spent)\\\n",
    "                  FROM ((transactions2 JOIN employees ON \\\n",
    "                         transactions2.cashier_id = employees.employee_id) JOIN \\\n",
    "                         albums_sold ON albums_sold.transaction_id=transactions2.transaction_id) JOIN\\\n",
    "                         sales ON transactions2.transaction_id=sales.transaction_id\\\n",
    "                         GROUP BY employees.employee_name, employees.employee_id;\")\n",
    "except psycopg2.Error as e: \n",
    "    print(\"Error: Inserting Rows\")\n",
    "    print (e)\n"
   ]
  },
  {
   "cell_type": "markdown",
   "metadata": {},
   "source": [
    "### Now let's run our query\n"
   ]
  },
  {
   "cell_type": "code",
   "execution_count": 28,
   "metadata": {},
   "outputs": [
    {
     "name": "stdout",
     "output_type": "stream",
     "text": [
      "('Bob', 90)\n",
      "('Sam', 99)\n"
     ]
    }
   ],
   "source": [
    "try: \n",
    "    cur.execute(\"select cashier_name, amount_spent FROM cashier_sales;\")\n",
    "        \n",
    "except psycopg2.Error as e: \n",
    "    print(\"Error: select *\")\n",
    "    print (e)\n",
    "\n",
    "row = cur.fetchone()\n",
    "while row:\n",
    "   print(row)\n",
    "   row = cur.fetchone()"
   ]
  },
  {
   "cell_type": "markdown",
   "metadata": {},
   "source": [
    "## We have successfully taken normalized table and denormalized them in order to speed up our performance and allow for simplier queries to be executed.\n",
    "**Drop the tables.**"
   ]
  },
  {
   "cell_type": "code",
   "execution_count": 29,
   "metadata": {},
   "outputs": [],
   "source": [
    "try: \n",
    "    cur.execute(\"DROP table albums_sold\")\n",
    "except psycopg2.Error as e: \n",
    "    print(\"Error: Dropping table\")\n",
    "    print (e)\n",
    "try: \n",
    "    cur.execute(\"DROP table employees\")\n",
    "except psycopg2.Error as e: \n",
    "    print(\"Error: Dropping table\")\n",
    "    print (e)\n",
    "try: \n",
    "    cur.execute(\"DROP table transactions\")\n",
    "except psycopg2.Error as e: \n",
    "    print(\"Error: Dropping table\")\n",
    "    print (e)\n",
    "try: \n",
    "    cur.execute(\"DROP table transactions2\")\n",
    "except psycopg2.Error as e: \n",
    "    print(\"Error: Dropping table\")\n",
    "    print (e)\n",
    "try: \n",
    "    cur.execute(\"DROP table sales\")\n",
    "except psycopg2.Error as e: \n",
    "    print(\"Error: Dropping table\")\n",
    "    print (e)\n",
    "try: \n",
    "    cur.execute(\"DROP table cashier_sales\")\n",
    "except psycopg2.Error as e: \n",
    "    print(\"Error: Dropping table\")\n",
    "    print (e)"
   ]
  },
  {
   "cell_type": "markdown",
   "metadata": {},
   "source": [
    "## And finally close your cursor and connection."
   ]
  },
  {
   "cell_type": "code",
   "execution_count": 30,
   "metadata": {},
   "outputs": [],
   "source": [
    "cur.close()\n",
    "conn.close()"
   ]
  }
 ],
 "metadata": {
  "kernelspec": {
   "display_name": "Python 3.7.13 ('.venv': pipenv)",
   "language": "python",
   "name": "python3"
  },
  "language_info": {
   "codemirror_mode": {
    "name": "ipython",
    "version": 3
   },
   "file_extension": ".py",
   "mimetype": "text/x-python",
   "name": "python",
   "nbconvert_exporter": "python",
   "pygments_lexer": "ipython3",
   "version": "3.7.13"
  },
  "orig_nbformat": 4,
  "vscode": {
   "interpreter": {
    "hash": "f82ff4251ad3e3cf198c3361155c67bbd0d99895385c197706ac8ae9ee7e017d"
   }
  }
 },
 "nbformat": 4,
 "nbformat_minor": 2
}
