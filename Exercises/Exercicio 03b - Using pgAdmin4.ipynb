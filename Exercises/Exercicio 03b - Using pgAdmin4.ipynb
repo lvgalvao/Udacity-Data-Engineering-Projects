{
 "cells": [
  {
   "cell_type": "markdown",
   "id": "c11787fd",
   "metadata": {},
   "source": [
    "# Exercise 03b: Using pgAdmin4\n",
    "# \n",
    "\n",
    "<img src=\"https://www.ovhcloud.com/sites/default/files/styles/text_media_horizontal/public/2021-09/ECX-1909_Hero_PostgreSQL_600x400%402x.png\" width=\"730\">"
   ]
  },
  {
   "cell_type": "markdown",
   "id": "ead7539a",
   "metadata": {},
   "source": [
    "The same exercise using pgAdmin4 and SQL"
   ]
  },
  {
   "cell_type": "markdown",
   "execution_count": 3,
   "id": "1b05ab09",
   "metadata": {},
   "outputs": [
    {
     "ename": "SyntaxError",
     "evalue": "invalid syntax (447750846.py, line 1)",
     "output_type": "error",
     "traceback": [
      "\u001b[0;36m  Input \u001b[0;32mIn [3]\u001b[0;36m\u001b[0m\n\u001b[0;31m    <img src=\"exercicio03.png\" width=\"350\" height=\"350\">\u001b[0m\n\u001b[0m    ^\u001b[0m\n\u001b[0;31mSyntaxError\u001b[0m\u001b[0;31m:\u001b[0m invalid syntax\n"
     ]
    }
   ],
   "source": [
    "<img src=\"exercicio03.png" width=\"350\" height=\"350\">"
   ]
  },
  {
   "cell_type": "code",
   "execution_count": null,
   "id": "036b2813",
   "metadata": {},
   "outputs": [],
   "source": []
  }
 ],
 "metadata": {
  "kernelspec": {
   "display_name": "Python 3 (ipykernel)",
   "language": "python",
   "name": "python3"
  },
  "language_info": {
   "codemirror_mode": {
    "name": "ipython",
    "version": 3
   },
   "file_extension": ".py",
   "mimetype": "text/x-python",
   "name": "python",
   "nbconvert_exporter": "python",
   "pygments_lexer": "ipython3",
   "version": "3.9.12"
  }
 },
 "nbformat": 4,
 "nbformat_minor": 5
}
