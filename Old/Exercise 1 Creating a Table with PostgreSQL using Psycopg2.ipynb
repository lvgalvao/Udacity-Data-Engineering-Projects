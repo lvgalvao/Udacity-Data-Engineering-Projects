{
 "cells": [
  {
   "cell_type": "markdown",
   "id": "8434fc32",
   "metadata": {},
   "source": [
    "# Lesson 1 Exercise 1: Creating a Table with PostgreSQL\n",
    "# \n",
    "\n",
    "<img src=\"https://www.ovhcloud.com/sites/default/files/styles/text_media_horizontal/public/2021-09/ECX-1909_Hero_PostgreSQL_600x400%402x.png\" width=\"730\">"
   ]
  },
  {
   "cell_type": "markdown",
   "id": "c100c33a",
   "metadata": {},
   "source": [
    "### Walk through the basics of PostgreSQL. You will need to complete the following tasks: \n",
    "<br>\n",
    "<li>Create a table in PostgreSQL, <li> Insert rows of data <li> Run a simple SQL query to validate the information. <br>"
   ]
  },
  {
   "cell_type": "markdown",
   "id": "1a5bbfd7",
   "metadata": {},
   "source": [
    "#### Import the library "
   ]
  },
  {
   "cell_type": "code",
   "execution_count": 1,
   "id": "c46b25f7",
   "metadata": {},
   "outputs": [],
   "source": [
    "import psycopg2"
   ]
  },
  {
   "cell_type": "markdown",
   "id": "1208d7d4",
   "metadata": {},
   "source": [
    "#### Create a connection to the database"
   ]
  },
  {
   "cell_type": "code",
   "execution_count": 6,
   "id": "20d14311",
   "metadata": {},
   "outputs": [],
   "source": [
    "try: \n",
    "    conn = psycopg2.connect(\"**params\")\n",
    "except psycopg2.Error as e: \n",
    "    print(\"Error: Could not make connection to the Postgres database\")\n",
    "    print(e)"
   ]
  },
  {
   "cell_type": "markdown",
   "id": "2cad5cdf",
   "metadata": {},
   "source": [
    "#### Use the connection to get a cursor that can be used to execute queries."
   ]
  },
  {
   "cell_type": "code",
   "execution_count": 7,
   "id": "07c72c9a",
   "metadata": {},
   "outputs": [],
   "source": [
    "try: \n",
    "    cur = conn.cursor()\n",
    "except psycopg2.Error as e: \n",
    "    print(\"Error: Could not get curser to the Database\")\n",
    "    print(e)"
   ]
  },
  {
   "cell_type": "markdown",
   "id": "ffe218d5",
   "metadata": {},
   "source": [
    "#### TO-DO: Set automatic commit to be true so that each action is committed without having to call conn.commit() after each command. "
   ]
  },
  {
   "cell_type": "code",
   "execution_count": 8,
   "id": "3f19eba4",
   "metadata": {},
   "outputs": [],
   "source": [
    "conn.set_session(autocommit=True)"
   ]
  },
  {
   "cell_type": "markdown",
   "id": "6ab0a0b6",
   "metadata": {},
   "source": [
    "#### TO-DO: Create a database to do the work in. "
   ]
  },
  {
   "cell_type": "code",
   "execution_count": 9,
   "id": "cbf65cce",
   "metadata": {},
   "outputs": [],
   "source": [
    "try: \n",
    "    cur.execute(\"create database dbmusic\")\n",
    "except psycopg2.Error as e:\n",
    "    print(e)"
   ]
  },
  {
   "cell_type": "markdown",
   "id": "0ae31998",
   "metadata": {},
   "source": [
    "#### TO-DO: Add the database name in the connect statement. Let's close our connection to the default database, reconnect to the new database, and get a new cursor."
   ]
  },
  {
   "cell_type": "code",
   "execution_count": 10,
   "id": "0164f904",
   "metadata": {},
   "outputs": [],
   "source": [
    "try: \n",
    "    conn.close()\n",
    "except psycopg2.Error as e:\n",
    "    print(e)\n",
    "    \n",
    "try: \n",
    "    conn = psycopg2.connect(\"**params\")\n",
    "except psycopg2.Error as e: \n",
    "    print(\"Error: Could not make connection to the Postgres database\")\n",
    "    print(e)\n",
    "    \n",
    "try: \n",
    "    cur = conn.cursor()\n",
    "except psycopg2.Error as e: \n",
    "    print(\"Error: Could not get curser to the Database\")\n",
    "    print(e)\n",
    "\n",
    "conn.set_session(autocommit=True)"
   ]
  },
  {
   "cell_type": "markdown",
   "id": "c25d336b",
   "metadata": {},
   "source": [
    "#### TO-DO Create a Song Library that contains a list of songs, including the song name, artist name, year, album it was from, and if it was a single. \n",
    "\n",
    "`song_title\n",
    "artist_name\n",
    "year\n",
    "album_name\n",
    "single`"
   ]
  },
  {
   "cell_type": "code",
   "execution_count": 12,
   "id": "d0eddb21",
   "metadata": {},
   "outputs": [],
   "source": [
    "try: \n",
    "    cur.execute(\"CREATE TABLE song_title (id serial PRIMARY KEY, artist_name varchar, year integer, album_name varchar, single varchar);\")\n",
    "except psycopg2.Error as e: \n",
    "    print(\"Error: Issue creating table\")\n",
    "    print (e)"
   ]
  },
  {
   "cell_type": "markdown",
   "id": "1751e00a",
   "metadata": {},
   "source": [
    "#### TO-DO: Insert the following row in the table\n",
    "`First Row:  \"Across The Universe\", \"The Beatles\", \"1970\", \"False\", \"Let It Be\"`"
   ]
  },
  {
   "cell_type": "code",
   "execution_count": 13,
   "id": "3a8e41de",
   "metadata": {},
   "outputs": [],
   "source": [
    "try: \n",
    "    cur.execute(\"INSERT INTO song_title (artist_name, year, album_name, single) \\\n",
    "    VALUES (%s, %s, %s, %s) RETURNING id\", \\\n",
    "                (\"The Beatles\", \"1970\", \"Across The Universe\", \"Let It Be\"))\n",
    "except psycopg2.Error as e: \n",
    "    print(\"Error: Issue creating rows\")\n",
    "    print (e)"
   ]
  },
  {
   "cell_type": "markdown",
   "id": "43435bde",
   "metadata": {},
   "source": [
    "#### ISSUE: I miss the requirements, so was necessesary rename the table, add a new column and add the miss information"
   ]
  },
  {
   "cell_type": "code",
   "execution_count": 14,
   "id": "219bdda6",
   "metadata": {},
   "outputs": [],
   "source": [
    "try: \n",
    "    cur.execute(\"ALTER TABLE song_title RENAME TO song_library;\")\n",
    "except psycopg2.Error as e: \n",
    "    print(\"Error: Issue rename the table\")\n",
    "    print (e)"
   ]
  },
  {
   "cell_type": "markdown",
   "id": "554529c9",
   "metadata": {},
   "source": [
    "#### ISSUE: Create a new column to Song Library named song_title"
   ]
  },
  {
   "cell_type": "code",
   "execution_count": 16,
   "id": "5e8a30e1",
   "metadata": {},
   "outputs": [
    {
     "name": "stdout",
     "output_type": "stream",
     "text": [
      "Error: Issue rename the table\n",
      "column \"song_title\" of relation \"song_library\" already exists\n",
      "\n"
     ]
    }
   ],
   "source": [
    "try: \n",
    "    cur.execute(\"ALTER TABLE song_library ADD song_title varchar;\")\n",
    "except psycopg2.Error as e: \n",
    "    print(\"Error: Issue rename the table\")\n",
    "    print (e)"
   ]
  },
  {
   "cell_type": "markdown",
   "id": "f62bf4ca",
   "metadata": {},
   "source": [
    "#### ISSUE: Add the information  a new column to Song Library named song_title"
   ]
  },
  {
   "cell_type": "code",
   "execution_count": 19,
   "id": "bb0eb847",
   "metadata": {},
   "outputs": [],
   "source": [
    "try: \n",
    "    cur.execute(\"UPDATE song_library SET single = False, song_title = 'Let it be' WHERE id = 1\")\n",
    "except psycopg2.Error as e: \n",
    "    print(\"Error: Issue updating the table\")\n",
    "    print (e)"
   ]
  },
  {
   "cell_type": "markdown",
   "id": "c457c8e8",
   "metadata": {},
   "source": [
    "#### TO-DO: Insert the following row in the table\n",
    "\n",
    "`Second Row: \"The Beatles\", \"Think For Yourself\", \"False\", \"1965\", \"Rubber Soul\"`"
   ]
  },
  {
   "cell_type": "code",
   "execution_count": 22,
   "id": "c68cbbdd",
   "metadata": {},
   "outputs": [],
   "source": [
    "try: \n",
    "    cur.execute(\"INSERT INTO song_library (song_title, artist_name, year, album_name, single) \\\n",
    "    VALUES (%s, %s, %s, %s, %s) RETURNING id\", \\\n",
    "                (\"Think For Yourself\", \"The Beatles\", \"1970\", \"Rubber Soul\", \"False\"))\n",
    "except psycopg2.Error as e: \n",
    "    print(\"Error: Issue creating rows\")\n",
    "    print (e)"
   ]
  },
  {
   "cell_type": "markdown",
   "id": "59d09f9f",
   "metadata": {},
   "source": [
    "#### TO-DO: Validate your data was inserted into the table. "
   ]
  },
  {
   "cell_type": "code",
   "execution_count": 23,
   "id": "7f2c61ec",
   "metadata": {},
   "outputs": [
    {
     "name": "stdout",
     "output_type": "stream",
     "text": [
      "(1, 'The Beatles', 1970, 'Across The Universe', 'false', 'Let it be')\n",
      "(2, 'The Beatles', 1970, 'Rubber Soul', 'False', 'Think For Yourself')\n"
     ]
    }
   ],
   "source": [
    "## TO-DO: Finish the SELECT * Statement \n",
    "try: \n",
    "    cur.execute(\"SELECT * FROM song_library;\")\n",
    "except psycopg2.Error as e: \n",
    "    print(\"Error: select *\")\n",
    "    print (e)\n",
    "\n",
    "row = cur.fetchone()\n",
    "while row:\n",
    "   print(row)\n",
    "   row = cur.fetchone()"
   ]
  }
 ],
 "metadata": {
  "kernelspec": {
   "display_name": "Python 3 (ipykernel)",
   "language": "python",
   "name": "python3"
  },
  "language_info": {
   "codemirror_mode": {
    "name": "ipython",
    "version": 3
   },
   "file_extension": ".py",
   "mimetype": "text/x-python",
   "name": "python",
   "nbconvert_exporter": "python",
   "pygments_lexer": "ipython3",
   "version": "3.9.12"
  }
 },
 "nbformat": 4,
 "nbformat_minor": 5
}
