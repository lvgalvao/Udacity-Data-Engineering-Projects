{
 "cells": [
  {
   "cell_type": "code",
   "execution_count": 1,
   "id": "241ea96f",
   "metadata": {},
   "outputs": [],
   "source": [
    "import psycopg2\n",
    "#Psycopg is the most popular PostgreSQL database adapter for the Python programming language. \n",
    "\n",
    "from config import USER, PASSWORD\n",
    "#PostgresQL credentials"
   ]
  },
  {
   "cell_type": "markdown",
   "id": "326d5bb5",
   "metadata": {},
   "source": [
    "# First let's create a connection to the database\n",
    "\n",
    "This connects to our local instance of PostgreSQL. From there we will use the database/schema. This connection will reach out to the database and insure we hvae the correct privilages to connect to this database."
   ]
  },
  {
   "cell_type": "markdown",
   "id": "05f6391c",
   "metadata": {},
   "source": [
    "First let's create a connection to the database\n",
    "This connects to our local instance of PostgreSQL. From there we will use the database/schema. This connection will reach out to the database and insure we hvae the correct privilages to connect to this database."
   ]
  },
  {
   "cell_type": "code",
   "execution_count": 2,
   "id": "63517c23",
   "metadata": {},
   "outputs": [],
   "source": [
    "try:\n",
    "    conn = psycopg2.connect(f\"host=127.0.0.1 dbname=udacity user={USER} password={PASSWORD}\")\n",
    "except psycopg2.Error as e:\n",
    "    print(\"Error:Could not make connection to the Postgres Database\")\n",
    "    print(e)"
   ]
  },
  {
   "cell_type": "code",
   "execution_count": 3,
   "id": "981c7203",
   "metadata": {},
   "outputs": [],
   "source": [
    "try:\n",
    "    cur = conn.cursor()\n",
    "except psycopg2.Error as e:\n",
    "    print(\"Error:Could not get cursor to the Database\")\n",
    "    print(e)"
   ]
  },
  {
   "cell_type": "code",
   "execution_count": 4,
   "id": "bf71fed2",
   "metadata": {},
   "outputs": [],
   "source": [
    "conn.set_session(autocommit=True)"
   ]
  },
  {
   "cell_type": "markdown",
   "id": "a620b5a0",
   "metadata": {},
   "source": [
    "## Let's Test our Connection and our Error Handling\n",
    "\n",
    "We are trying to do a select * on a table we have not created yet. We should expect to see a nicely handled error."
   ]
  },
  {
   "cell_type": "code",
   "execution_count": 5,
   "id": "653500e5",
   "metadata": {},
   "outputs": [
    {
     "name": "stdout",
     "output_type": "stream",
     "text": [
      "relation \"music_library\" does not exist\n",
      "LINE 1: select * from music_library;\n",
      "                      ^\n",
      "\n"
     ]
    }
   ],
   "source": [
    "try:\n",
    "    cur.execute(\"select * from music_library;\")\n",
    "except psycopg2.Error as e:\n",
    "    print(e)"
   ]
  },
  {
   "cell_type": "markdown",
   "id": "6a307350",
   "metadata": {},
   "source": [
    "### Let's imagene we would like to start creating a Music Library of albums. Each album has a lot of information we could add to them music library table, but we will just start with album name, artist name, year. The type of table we want to create and the columns we need seems to fall out very naturally.\n",
    "\n",
    "> Table name: music_library <br>\n",
    "> column 1: Album Name <br>\n",
    "> column 2: Artist Name <br>\n",
    "> column 3: Year\n",
    "\n",
    "### Now to translate this information into a Create Table Statement.\n"
   ]
  },
  {
   "cell_type": "code",
   "execution_count": 6,
   "id": "43dec48a",
   "metadata": {},
   "outputs": [],
   "source": [
    "try: cur.execute(\"CREATE TABLE IF NOT EXISTS music_library (album_name varchar, artist_name varchar, year int);\")\n",
    "except psycopg2.Error as e:\n",
    "    print(\"Error: Issue creating table\")\n",
    "    print(e)"
   ]
  },
  {
   "cell_type": "markdown",
   "id": "960ad3b2",
   "metadata": {},
   "source": [
    "### No error was found, but lets check to ensure our table was created. select count(*) which should return 0 as we have not inserted any rows."
   ]
  },
  {
   "cell_type": "code",
   "execution_count": 7,
   "id": "d63cb365",
   "metadata": {},
   "outputs": [
    {
     "name": "stdout",
     "output_type": "stream",
     "text": [
      "[(0,)]\n"
     ]
    }
   ],
   "source": [
    "try: cur.execute(\"SELECT count(*) from music_library;\")\n",
    "except psycopg2.Error as e:\n",
    "    print(\"Error: Issue creating table\")\n",
    "    print(e)\n",
    "\n",
    "print(cur.fetchall())"
   ]
  },
  {
   "cell_type": "markdown",
   "id": "effec530",
   "metadata": {},
   "source": [
    "### Let's insert two rows\n",
    "Note the syntax here"
   ]
  },
  {
   "cell_type": "code",
   "execution_count": 8,
   "id": "8be0b693",
   "metadata": {},
   "outputs": [],
   "source": [
    "try:\n",
    "    cur.execute(\"INSERT INTO music_library (album_name, artist_name, year) \\\n",
    "                VALUES (%s, %s, %s)\",\\\n",
    "               (\"Let it Be\", \"The beatles\", 1970))\n",
    "    \n",
    "except psycopg2.Error as e:\n",
    "    print(\"Error: inserting Rows\")\n",
    "    print(e)\n",
    "    \n",
    "try:\n",
    "    cur.execute(\"INSERT INTO music_library (album_name, artist_name, year) \\\n",
    "                VALUES (%s, %s, %s)\",\\\n",
    "               (\"Robber Soul\", \"The beatles\", 1965))\n",
    "    \n",
    "except psycopg2.Error as e:\n",
    "    print(\"Error: inserting Rows\")\n",
    "    print(e)"
   ]
  },
  {
   "cell_type": "markdown",
   "id": "2ee0fdb5",
   "metadata": {},
   "source": [
    "### Validate your data was inserted into the table.\n",
    "Note: The while loop is used for printing the results. If execution queries in the Postgres shell, this would not be requiered."
   ]
  },
  {
   "cell_type": "code",
   "execution_count": 9,
   "id": "bfccfd4a",
   "metadata": {},
   "outputs": [
    {
     "name": "stdout",
     "output_type": "stream",
     "text": [
      "('Let it Be', 'The beatles', 1970)\n",
      "('Robber Soul', 'The beatles', 1965)\n"
     ]
    }
   ],
   "source": [
    "try:\n",
    "    cur.execute(\"SELECT * FROM music_library;\")\n",
    "except psycopg2.Error as e:\n",
    "    print(\"Error: select *\")\n",
    "    print(e)\n",
    "    \n",
    "row = cur.fetchone()\n",
    "while row:\n",
    "    print(row)\n",
    "    row = cur.fetchone()"
   ]
  },
  {
   "cell_type": "markdown",
   "id": "2110395e",
   "metadata": {},
   "source": [
    "###  Create a Song Library that contains a list of songs, including the song name, artist name, year, album it was from, and if it was a single.\n",
    "\n",
    "> column 1: song_title <br>\n",
    "> column 2: artist_name <br>\n",
    "> column 3: year <br>\n",
    "> column 4: album_name <br>\n",
    "> column 5: single\n",
    "\n",
    "### Now to translate this information into a Create Table Statement."
   ]
  },
  {
   "cell_type": "code",
   "execution_count": 11,
   "id": "ec4b7436",
   "metadata": {},
   "outputs": [],
   "source": [
    "try:\n",
    "    cur.execute(\"CREATE TABLE songs (song_title varchar, artist_name varchar, year int, album_name varchar, single Boolean);\")\n",
    "except psycopg2.Error as e:\n",
    "    print(\"Error: issue creating table\")\n",
    "    print(e)"
   ]
  },
  {
   "cell_type": "markdown",
   "id": "a17082be",
   "metadata": {},
   "source": [
    "### Let's insert two rows\n",
    "\n",
    "> First row: \"Across The universe\", \"The Beatles\", \"1970\", \"False\", \"Let it Be\" <br>\n",
    "> Second row: \"The Beatles\", \"Think For Yourself\", \"False\", \"1965\", \"Rubber Soul\""
   ]
  },
  {
   "cell_type": "code",
   "execution_count": 12,
   "id": "e71de91a",
   "metadata": {},
   "outputs": [],
   "source": [
    "try:\n",
    "    cur.execute(\"INSERT INTO songs (song_title, artist_name, year, album_name, single) \\\n",
    "                VALUES (%s, %s, %s, %s, %s)\", \\\n",
    "                (\"Across The universe\", \"The Beatles\", 1970, \"Let it Be\", False))\n",
    "except psycopg2.Error as e:\n",
    "    print(\"Error: Inserting Rows\")\n",
    "    print(e)\n",
    "                 \n",
    "try:\n",
    "    cur.execute(\"INSERT INTO songs (song_title, artist_name, year, album_name, single) \\\n",
    "                VALUES (%s, %s, %s, %s, %s)\", \\\n",
    "                (\"Think For Yourself\", \"The Beatles\", 1965, \"Rubber Soul\", False))\n",
    "except psycopg2.Error as e:\n",
    "    print(\"Error: Inserting Rows\")\n",
    "    print(e)               "
   ]
  },
  {
   "cell_type": "markdown",
   "id": "f93c7621",
   "metadata": {},
   "source": [
    "### Check if the rows was created"
   ]
  },
  {
   "cell_type": "code",
   "execution_count": 13,
   "id": "e642fff7",
   "metadata": {},
   "outputs": [
    {
     "name": "stdout",
     "output_type": "stream",
     "text": [
      "('Across The universe', 'The Beatles', 1970, 'Let it Be', False)\n",
      "('Think For Yourself', 'The Beatles', 1965, 'Rubber Soul', False)\n"
     ]
    }
   ],
   "source": [
    "try:\n",
    "    cur.execute(\"SELECT * FROM songs;\")\n",
    "except psycopg2.Error as e:\n",
    "    print(\"Error: select *\")\n",
    "    print(e)\n",
    "    \n",
    "row = cur.fetchone()\n",
    "while row:\n",
    "    print(row)\n",
    "    row = cur.fetchone()"
   ]
  },
  {
   "cell_type": "markdown",
   "id": "cd9a3c62",
   "metadata": {},
   "source": [
    "### For the sake of the exercise, I will drop the tables."
   ]
  },
  {
   "cell_type": "code",
   "execution_count": 14,
   "id": "64ba3983",
   "metadata": {},
   "outputs": [],
   "source": [
    "try:\n",
    "    cur.execute(\"DROP table music_library; DROP table songs;\")\n",
    "except psycopg2.Error as e:\n",
    "    print(\"Error: Dropping table\")\n",
    "    print(e)"
   ]
  },
  {
   "cell_type": "markdown",
   "id": "99d6b3ef",
   "metadata": {},
   "source": [
    "### And finally close your cursor and connection."
   ]
  },
  {
   "cell_type": "code",
   "execution_count": 15,
   "id": "4f006b64",
   "metadata": {},
   "outputs": [],
   "source": [
    "cur.close()\n",
    "conn.close()"
   ]
  }
 ],
 "metadata": {
  "kernelspec": {
   "display_name": "Python 3 (ipykernel)",
   "language": "python",
   "name": "python3"
  },
  "language_info": {
   "codemirror_mode": {
    "name": "ipython",
    "version": 3
   },
   "file_extension": ".py",
   "mimetype": "text/x-python",
   "name": "python",
   "nbconvert_exporter": "python",
   "pygments_lexer": "ipython3",
   "version": "3.9.12"
  },
  "vscode": {
   "interpreter": {
    "hash": "e8980cd26e33321dd575549f9864338c1a07c7a9bc8c130b0683ae22dac36730"
   }
  }
 },
 "nbformat": 4,
 "nbformat_minor": 5
}
